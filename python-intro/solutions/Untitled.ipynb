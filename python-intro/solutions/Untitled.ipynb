{
 "cells": [
  {
   "cell_type": "code",
   "execution_count": 1,
   "id": "88d2fc90-b90d-4f40-acd5-d241909138a4",
   "metadata": {},
   "outputs": [],
   "source": [
    "def typeoutmygreetings():\n",
    "    print(\"Here\")\n",
    "    print(\"Here\")\n",
    "    print(\"Here\")\n",
    "    print(\"Here\")"
   ]
  },
  {
   "cell_type": "code",
   "execution_count": 2,
   "id": "58c81f43-d46d-4130-8909-170c796a2fbb",
   "metadata": {},
   "outputs": [
    {
     "name": "stdout",
     "output_type": "stream",
     "text": [
      "Here\n",
      "Here\n",
      "Here\n",
      "Here\n"
     ]
    }
   ],
   "source": [
    "typeoutmygreetings()"
   ]
  },
  {
   "cell_type": "code",
   "execution_count": 4,
   "id": "265ec7f2-2eac-4700-9e76-86ff498a5935",
   "metadata": {},
   "outputs": [
    {
     "name": "stdout",
     "output_type": "stream",
     "text": [
      "1971/9/4\n"
     ]
    }
   ],
   "source": [
    "def print_date(year, month, day):\n",
    "    joined = str(year) + '/' + str(month) + '/' + str(day)\n",
    "    print(joined)\n",
    "print_date(1971, 9, 4)"
   ]
  },
  {
   "cell_type": "code",
   "execution_count": 12,
   "id": "63f85e71-2ffa-4a90-a7a2-49cd7a58b4f7",
   "metadata": {},
   "outputs": [],
   "source": [
    "values= [1, 5, 7]\n",
    "def average(value):\n",
    "    if len(value) == 0:\n",
    "        return None\n",
    "    return sum(values) / len(values)"
   ]
  },
  {
   "cell_type": "code",
   "execution_count": 13,
   "id": "8e48a837-398f-4e91-813a-08ff486955f9",
   "metadata": {},
   "outputs": [
    {
     "name": "stdout",
     "output_type": "stream",
     "text": [
      "my average is  4.333333333333333\n"
     ]
    }
   ],
   "source": [
    "a = average(values)\n",
    "print('my average is ', a)"
   ]
  },
  {
   "cell_type": "code",
   "execution_count": null,
   "id": "5e51bb58-007f-4139-b95e-e92264d147a1",
   "metadata": {},
   "outputs": [],
   "source": []
  }
 ],
 "metadata": {
  "kernelspec": {
   "display_name": "Python 3 (ipykernel)",
   "language": "python",
   "name": "python3"
  },
  "language_info": {
   "codemirror_mode": {
    "name": "ipython",
    "version": 3
   },
   "file_extension": ".py",
   "mimetype": "text/x-python",
   "name": "python",
   "nbconvert_exporter": "python",
   "pygments_lexer": "ipython3",
   "version": "3.9.16"
  }
 },
 "nbformat": 4,
 "nbformat_minor": 5
}

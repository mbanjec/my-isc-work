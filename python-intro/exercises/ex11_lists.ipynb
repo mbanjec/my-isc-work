{
 "cells": [
  {
   "cell_type": "markdown",
   "id": "5e6eded3-5a9a-41d7-b280-7f2253803328",
   "metadata": {
    "editable": true,
    "slideshow": {
     "slide_type": ""
    },
    "tags": []
   },
   "source": [
    "# Exercise 11: Lists"
   ]
  },
  {
   "cell_type": "markdown",
   "id": "07ef1eea-76ea-4414-928f-b9d91a0d5049",
   "metadata": {},
   "source": [
    "## Aim: Introduce lists and their methods."
   ]
  },
  {
   "cell_type": "markdown",
   "id": "3de752d3-ba6b-492b-8168-7312345a987f",
   "metadata": {},
   "source": [
    "### Issues covered:\n",
    "- Creating a list\n",
    "- Indexing and slicing lists\n",
    "- Using methods on lists"
   ]
  },
  {
   "cell_type": "markdown",
   "id": "f62b0617-14c6-4693-a7ea-4c479ba2c8e9",
   "metadata": {},
   "source": [
    "## 1. Creating a basic list "
   ]
  },
  {
   "cell_type": "markdown",
   "id": "d6e7b6ac-3f0d-434d-8c76-735ecb5cff0b",
   "metadata": {},
   "source": [
    "Create a list containing the values \"hello\", \"my\", \"name\", and \"is\" and print it."
   ]
  },
  {
   "cell_type": "code",
   "execution_count": 1,
   "id": "984a61be-d68f-45b7-a8dd-cc235ff21c11",
   "metadata": {
    "editable": true,
    "slideshow": {
     "slide_type": ""
    },
    "tags": [
     "clear_answer_cell"
    ]
   },
   "outputs": [
    {
     "data": {
      "text/plain": [
       "['__add__',\n",
       " '__class__',\n",
       " '__class_getitem__',\n",
       " '__contains__',\n",
       " '__delattr__',\n",
       " '__delitem__',\n",
       " '__dir__',\n",
       " '__doc__',\n",
       " '__eq__',\n",
       " '__format__',\n",
       " '__ge__',\n",
       " '__getattribute__',\n",
       " '__getitem__',\n",
       " '__gt__',\n",
       " '__hash__',\n",
       " '__iadd__',\n",
       " '__imul__',\n",
       " '__init__',\n",
       " '__init_subclass__',\n",
       " '__iter__',\n",
       " '__le__',\n",
       " '__len__',\n",
       " '__lt__',\n",
       " '__mul__',\n",
       " '__ne__',\n",
       " '__new__',\n",
       " '__reduce__',\n",
       " '__reduce_ex__',\n",
       " '__repr__',\n",
       " '__reversed__',\n",
       " '__rmul__',\n",
       " '__setattr__',\n",
       " '__setitem__',\n",
       " '__sizeof__',\n",
       " '__str__',\n",
       " '__subclasshook__',\n",
       " 'append',\n",
       " 'clear',\n",
       " 'copy',\n",
       " 'count',\n",
       " 'extend',\n",
       " 'index',\n",
       " 'insert',\n",
       " 'pop',\n",
       " 'remove',\n",
       " 'reverse',\n",
       " 'sort']"
      ]
     },
     "execution_count": 1,
     "metadata": {},
     "output_type": "execute_result"
    }
   ],
   "source": [
    "dir(list)"
   ]
  },
  {
   "cell_type": "code",
   "execution_count": 2,
   "id": "2adbba6d-73c0-456b-bb7e-f4fec4743fcc",
   "metadata": {},
   "outputs": [
    {
     "name": "stdout",
     "output_type": "stream",
     "text": [
      "['hello', 'my', 'name', 'is']\n"
     ]
    }
   ],
   "source": [
    "mylist = [\"hello\", \"my\", \"name\", \"is\"]\n",
    "print(mylist)"
   ]
  },
  {
   "cell_type": "markdown",
   "id": "58857357-d826-468e-9754-5cde5ebd8604",
   "metadata": {},
   "source": [
    "## 2. Indexing and slicing lists"
   ]
  },
  {
   "cell_type": "markdown",
   "id": "4e6ff8c9-0e81-4b95-9208-eec5215b6588",
   "metadata": {},
   "source": [
    "Use list indexing to select the second item in the list."
   ]
  },
  {
   "cell_type": "code",
   "execution_count": 3,
   "id": "4d484239-cf45-4c81-a439-aa87bd03130f",
   "metadata": {
    "editable": true,
    "slideshow": {
     "slide_type": ""
    },
    "tags": [
     "clear_answer_cell"
    ]
   },
   "outputs": [
    {
     "name": "stdout",
     "output_type": "stream",
     "text": [
      "my\n"
     ]
    }
   ],
   "source": [
    "print(mylist[1])"
   ]
  },
  {
   "cell_type": "markdown",
   "id": "eaa2f27a-7c6e-4da7-8b29-44cd32809d95",
   "metadata": {},
   "source": [
    "Use list indexing to select the second to last item in the list."
   ]
  },
  {
   "cell_type": "code",
   "execution_count": 10,
   "id": "57a158ce-1bb8-4fbb-b824-a1b80038c870",
   "metadata": {
    "editable": true,
    "slideshow": {
     "slide_type": ""
    },
    "tags": [
     "clear_answer_cell"
    ]
   },
   "outputs": [
    {
     "name": "stdout",
     "output_type": "stream",
     "text": [
      "is\n"
     ]
    }
   ],
   "source": [
    "print(mylist[(len(mylist) - 1)])"
   ]
  },
  {
   "cell_type": "code",
   "execution_count": 4,
   "id": "d0242be3-426e-4e34-b6cd-8ee82a935bf7",
   "metadata": {},
   "outputs": [
    {
     "name": "stdout",
     "output_type": "stream",
     "text": [
      "Help on built-in function len in module builtins:\n",
      "\n",
      "len(obj, /)\n",
      "    Return the number of items in a container.\n",
      "\n"
     ]
    }
   ],
   "source": [
    "help(len)"
   ]
  },
  {
   "cell_type": "markdown",
   "id": "631481bf-57a8-428b-a984-9771f9355d03",
   "metadata": {},
   "source": [
    "Use list slicing to select the whole list."
   ]
  },
  {
   "cell_type": "code",
   "execution_count": 13,
   "id": "6686b4f5-88fc-4b1b-b000-1ade788c4616",
   "metadata": {
    "editable": true,
    "slideshow": {
     "slide_type": ""
    },
    "tags": [
     "clear_answer_cell"
    ]
   },
   "outputs": [
    {
     "name": "stdout",
     "output_type": "stream",
     "text": [
      "['hello', 'my', 'name', 'is']\n"
     ]
    }
   ],
   "source": [
    "print(mylist)"
   ]
  },
  {
   "cell_type": "markdown",
   "id": "27c100d5-4f2c-4cd8-bf9f-05350585e401",
   "metadata": {},
   "source": [
    "## 3. Modifying lists and using methods"
   ]
  },
  {
   "cell_type": "markdown",
   "id": "2766b76b-2af0-41cc-8f66-31baf3cf7659",
   "metadata": {},
   "source": [
    "Add your name to the end of the list and print it."
   ]
  },
  {
   "cell_type": "code",
   "execution_count": 15,
   "id": "82e07301-0038-482e-89c5-f7a93762f542",
   "metadata": {
    "editable": true,
    "slideshow": {
     "slide_type": ""
    },
    "tags": [
     "clear_answer_cell"
    ]
   },
   "outputs": [],
   "source": [
    "mylist.append('chaminuka')"
   ]
  },
  {
   "cell_type": "markdown",
   "id": "5329c73b-1d2f-4902-ac7c-1275db6c7046",
   "metadata": {},
   "source": [
    "Try running the cell above multiple times and see what happens to your answer."
   ]
  },
  {
   "cell_type": "code",
   "execution_count": 16,
   "id": "a2c83f9a-b3a2-4b04-af7a-ad15520b76bd",
   "metadata": {},
   "outputs": [
    {
     "name": "stdout",
     "output_type": "stream",
     "text": [
      "['hello', 'my', 'name', 'is', 'chaminuka']\n"
     ]
    }
   ],
   "source": [
    "print(mylist)"
   ]
  },
  {
   "cell_type": "markdown",
   "id": "e053c624-0e97-4b94-99eb-c4903cc1ef32",
   "metadata": {},
   "source": [
    "Remove the effects of running the cell multiple times by deleting some words. "
   ]
  },
  {
   "cell_type": "code",
   "execution_count": 21,
   "id": "78b5b6d4-2dd0-482b-9445-07553b9f3a08",
   "metadata": {
    "editable": true,
    "slideshow": {
     "slide_type": ""
    },
    "tags": [
     "clear_answer_cell"
    ]
   },
   "outputs": [],
   "source": [
    "mylist.remove(\"chaminuka\")"
   ]
  },
  {
   "cell_type": "markdown",
   "id": "ad087cf7-5e6d-4aaa-9ae8-408bcdbfac5c",
   "metadata": {},
   "source": [
    "Replace the word \"name\" with \"age\" and replace your name with your age (or any number you like). Your output should look something like this:\n",
    "```\n",
    "['hello', 'my', 'age', 'is', 100]\n",
    "```"
   ]
  },
  {
   "cell_type": "code",
   "execution_count": 7,
   "id": "ddf52756-abab-4d43-ada6-577d77afa63d",
   "metadata": {
    "editable": true,
    "execution": {
     "iopub.execute_input": "2023-10-23T10:34:52.416094Z",
     "iopub.status.busy": "2023-10-23T10:34:52.415441Z",
     "iopub.status.idle": "2023-10-23T10:34:52.423056Z",
     "shell.execute_reply": "2023-10-23T10:34:52.421846Z"
    },
    "slideshow": {
     "slide_type": ""
    },
    "tags": [
     "clear_answer_cell"
    ]
   },
   "outputs": [],
   "source": []
  },
  {
   "cell_type": "markdown",
   "id": "6ded3e4e-d54b-48bd-b5cb-16cd062ee54e",
   "metadata": {},
   "source": [
    "## 4. Let's create a list from a range and modify it"
   ]
  },
  {
   "cell_type": "markdown",
   "id": "90e22809-fe50-481a-9fb9-7610ac38b12b",
   "metadata": {},
   "source": [
    "Create a list `y` with values from 1 to 10 using the `range()` function."
   ]
  },
  {
   "cell_type": "code",
   "execution_count": 31,
   "id": "2724c0a8-be93-4047-810e-1fe4ac47c2a2",
   "metadata": {
    "editable": true,
    "slideshow": {
     "slide_type": ""
    },
    "tags": [
     "clear_answer_cell"
    ]
   },
   "outputs": [],
   "source": [
    "y = list(range(1, 11))"
   ]
  },
  {
   "cell_type": "code",
   "execution_count": 32,
   "id": "615f4317-e241-4aad-9987-307313c483b5",
   "metadata": {},
   "outputs": [
    {
     "name": "stdout",
     "output_type": "stream",
     "text": [
      "[1, 2, 3, 4, 5, 6, 7, 8, 9, 10]\n"
     ]
    }
   ],
   "source": [
    "print(y)"
   ]
  },
  {
   "cell_type": "code",
   "execution_count": 25,
   "id": "62642002-593b-4d36-84dc-14a38de1c0e8",
   "metadata": {},
   "outputs": [
    {
     "name": "stdout",
     "output_type": "stream",
     "text": [
      "Help on class range in module builtins:\n",
      "\n",
      "class range(object)\n",
      " |  range(stop) -> range object\n",
      " |  range(start, stop[, step]) -> range object\n",
      " |  \n",
      " |  Return an object that produces a sequence of integers from start (inclusive)\n",
      " |  to stop (exclusive) by step.  range(i, j) produces i, i+1, i+2, ..., j-1.\n",
      " |  start defaults to 0, and stop is omitted!  range(4) produces 0, 1, 2, 3.\n",
      " |  These are exactly the valid indices for a list of 4 elements.\n",
      " |  When step is given, it specifies the increment (or decrement).\n",
      " |  \n",
      " |  Methods defined here:\n",
      " |  \n",
      " |  __bool__(self, /)\n",
      " |      True if self else False\n",
      " |  \n",
      " |  __contains__(self, key, /)\n",
      " |      Return key in self.\n",
      " |  \n",
      " |  __eq__(self, value, /)\n",
      " |      Return self==value.\n",
      " |  \n",
      " |  __ge__(self, value, /)\n",
      " |      Return self>=value.\n",
      " |  \n",
      " |  __getattribute__(self, name, /)\n",
      " |      Return getattr(self, name).\n",
      " |  \n",
      " |  __getitem__(self, key, /)\n",
      " |      Return self[key].\n",
      " |  \n",
      " |  __gt__(self, value, /)\n",
      " |      Return self>value.\n",
      " |  \n",
      " |  __hash__(self, /)\n",
      " |      Return hash(self).\n",
      " |  \n",
      " |  __iter__(self, /)\n",
      " |      Implement iter(self).\n",
      " |  \n",
      " |  __le__(self, value, /)\n",
      " |      Return self<=value.\n",
      " |  \n",
      " |  __len__(self, /)\n",
      " |      Return len(self).\n",
      " |  \n",
      " |  __lt__(self, value, /)\n",
      " |      Return self<value.\n",
      " |  \n",
      " |  __ne__(self, value, /)\n",
      " |      Return self!=value.\n",
      " |  \n",
      " |  __reduce__(...)\n",
      " |      Helper for pickle.\n",
      " |  \n",
      " |  __repr__(self, /)\n",
      " |      Return repr(self).\n",
      " |  \n",
      " |  __reversed__(...)\n",
      " |      Return a reverse iterator.\n",
      " |  \n",
      " |  count(...)\n",
      " |      rangeobject.count(value) -> integer -- return number of occurrences of value\n",
      " |  \n",
      " |  index(...)\n",
      " |      rangeobject.index(value) -> integer -- return index of value.\n",
      " |      Raise ValueError if the value is not present.\n",
      " |  \n",
      " |  ----------------------------------------------------------------------\n",
      " |  Static methods defined here:\n",
      " |  \n",
      " |  __new__(*args, **kwargs) from builtins.type\n",
      " |      Create and return a new object.  See help(type) for accurate signature.\n",
      " |  \n",
      " |  ----------------------------------------------------------------------\n",
      " |  Data descriptors defined here:\n",
      " |  \n",
      " |  start\n",
      " |  \n",
      " |  step\n",
      " |  \n",
      " |  stop\n",
      "\n"
     ]
    }
   ],
   "source": [
    "help(range)"
   ]
  },
  {
   "cell_type": "markdown",
   "id": "f5a070a4-ebd0-4e19-b11b-2c446abd7b98",
   "metadata": {},
   "source": [
    "Replace the first item in the list with the value `10`. "
   ]
  },
  {
   "cell_type": "code",
   "execution_count": 24,
   "id": "31f728df-6121-42bb-b500-acae767354d7",
   "metadata": {},
   "outputs": [
    {
     "name": "stdout",
     "output_type": "stream",
     "text": [
      "[1, 2, 3, 4, 5, 6, 7, 8, 9, 10]\n"
     ]
    }
   ],
   "source": [
    "print(y)"
   ]
  },
  {
   "cell_type": "code",
   "execution_count": 33,
   "id": "f7f6e43d-7286-4bf6-9375-3efc67ec715a",
   "metadata": {
    "editable": true,
    "slideshow": {
     "slide_type": ""
    },
    "tags": [
     "clear_answer_cell"
    ]
   },
   "outputs": [],
   "source": [
    "y.append(11)"
   ]
  },
  {
   "cell_type": "markdown",
   "id": "eaee4ffd-9740-4898-9d53-bc2d14a49a51",
   "metadata": {},
   "source": [
    "Append the number `11` to the list."
   ]
  },
  {
   "cell_type": "code",
   "execution_count": 34,
   "id": "e1dd3fed-2fcf-4009-b7c3-e9abc82e55c1",
   "metadata": {},
   "outputs": [
    {
     "name": "stdout",
     "output_type": "stream",
     "text": [
      "[1, 2, 3, 4, 5, 6, 7, 8, 9, 10, 11]\n"
     ]
    }
   ],
   "source": [
    "print(y)"
   ]
  },
  {
   "cell_type": "code",
   "execution_count": 10,
   "id": "919dfd92-e396-4f5a-a74d-25d4bea03ac5",
   "metadata": {
    "editable": true,
    "execution": {
     "iopub.execute_input": "2023-10-23T10:34:52.447743Z",
     "iopub.status.busy": "2023-10-23T10:34:52.447278Z",
     "iopub.status.idle": "2023-10-23T10:34:52.452455Z",
     "shell.execute_reply": "2023-10-23T10:34:52.451491Z"
    },
    "slideshow": {
     "slide_type": ""
    },
    "tags": [
     "clear_answer_cell"
    ]
   },
   "outputs": [],
   "source": []
  },
  {
   "cell_type": "markdown",
   "id": "24494fb9-2733-472c-ac06-85e12a870919",
   "metadata": {},
   "source": [
    "Add another list `[12, 13, 14]` to the list using the `extend` method."
   ]
  },
  {
   "cell_type": "code",
   "execution_count": 35,
   "id": "773e4fa6-5a7d-4eaa-88b9-53fe8e7ae155",
   "metadata": {
    "editable": true,
    "slideshow": {
     "slide_type": ""
    },
    "tags": [
     "clear_answer_cell"
    ]
   },
   "outputs": [],
   "source": [
    "mynewlist = [12, 13, 14]"
   ]
  },
  {
   "cell_type": "code",
   "execution_count": 37,
   "id": "befd59be-53e4-4d3f-8cbb-3891558b2031",
   "metadata": {},
   "outputs": [],
   "source": [
    "y.append(mynewlist)"
   ]
  },
  {
   "cell_type": "code",
   "execution_count": 38,
   "id": "f5375ce8-b7a2-4f9b-b34a-0987858e0403",
   "metadata": {},
   "outputs": [
    {
     "name": "stdout",
     "output_type": "stream",
     "text": [
      "[1, 2, 3, 4, 5, 6, 7, 8, 9, 10, 11, [12, 13, 14]]\n"
     ]
    }
   ],
   "source": [
    "print(y)"
   ]
  },
  {
   "cell_type": "markdown",
   "id": "c6c911ee-16d6-4fc4-beab-169eb9fd7867",
   "metadata": {},
   "source": [
    "## 5. Using list methods on character strings."
   ]
  },
  {
   "cell_type": "markdown",
   "id": "a34dd6a8-2fe9-4e34-b2b9-8507d0c7ac6e",
   "metadata": {},
   "source": [
    "Use `list()` to create a list with the characters 'software carpentry'."
   ]
  },
  {
   "cell_type": "code",
   "execution_count": 39,
   "id": "396460b9-f70d-4c0d-89cb-0b21b46c1edc",
   "metadata": {
    "editable": true,
    "slideshow": {
     "slide_type": ""
    },
    "tags": [
     "clear_answer_cell"
    ]
   },
   "outputs": [],
   "source": [
    "myotherlist = list( 'software carpentry')"
   ]
  },
  {
   "cell_type": "code",
   "execution_count": 40,
   "id": "63ff1154-5d2d-46f0-aaf8-9f8f19114f5c",
   "metadata": {},
   "outputs": [
    {
     "name": "stdout",
     "output_type": "stream",
     "text": [
      "['s', 'o', 'f', 't', 'w', 'a', 'r', 'e', ' ', 'c', 'a', 'r', 'p', 'e', 'n', 't', 'r', 'y']\n"
     ]
    }
   ],
   "source": [
    "print(myotherlist)"
   ]
  },
  {
   "cell_type": "markdown",
   "id": "105571a7-ca39-4266-ab9a-845017bac407",
   "metadata": {},
   "source": [
    "How many characters are in this string? (i.e. what is the length of the list?)"
   ]
  },
  {
   "cell_type": "code",
   "execution_count": 42,
   "id": "bbb957c0-15fb-4cc7-8d67-f265b1999cd6",
   "metadata": {
    "editable": true,
    "slideshow": {
     "slide_type": ""
    },
    "tags": [
     "clear_answer_cell"
    ]
   },
   "outputs": [
    {
     "name": "stdout",
     "output_type": "stream",
     "text": [
      "18\n"
     ]
    }
   ],
   "source": [
    "print(len(myotherlist))"
   ]
  },
  {
   "cell_type": "markdown",
   "id": "23b7927c-d1aa-459b-83d6-6c960fa46f3c",
   "metadata": {},
   "source": [
    "That's quite a lot of characters. Turn it back into a string again using `.join()`."
   ]
  },
  {
   "cell_type": "code",
   "execution_count": 45,
   "id": "fbf5968c-a0df-496d-a97b-625d6133ae3d",
   "metadata": {
    "editable": true,
    "slideshow": {
     "slide_type": ""
    },
    "tags": [
     "clear_answer_cell"
    ]
   },
   "outputs": [],
   "source": [
    "finalist = ''.join(myotherlist)"
   ]
  },
  {
   "cell_type": "code",
   "execution_count": 46,
   "id": "279183b1-3848-4e8b-b780-388bd627ce0e",
   "metadata": {},
   "outputs": [
    {
     "name": "stdout",
     "output_type": "stream",
     "text": [
      "software carpentry\n"
     ]
    }
   ],
   "source": [
    "print(finalist)"
   ]
  },
  {
   "cell_type": "markdown",
   "id": "7439020b-ee4f-4f75-9079-c74cc5e4f4cd",
   "metadata": {},
   "source": [
    "Use list slicing to print only the first word (first 8 characters) from the string."
   ]
  },
  {
   "cell_type": "code",
   "execution_count": 51,
   "id": "94d44a28-b3b7-4c4e-b21f-e65e187a09af",
   "metadata": {
    "editable": true,
    "slideshow": {
     "slide_type": ""
    },
    "tags": [
     "clear_answer_cell"
    ]
   },
   "outputs": [
    {
     "name": "stdout",
     "output_type": "stream",
     "text": [
      "sof\n"
     ]
    }
   ],
   "source": [
    "print(finalist[0:3])"
   ]
  },
  {
   "cell_type": "markdown",
   "id": "95e539af-be89-491d-8638-7d2edc21b6f1",
   "metadata": {},
   "source": [
    "Print every other letter from the string - you should get `sfwr apnr`."
   ]
  },
  {
   "cell_type": "code",
   "execution_count": 50,
   "id": "66ae863c-b044-4d4f-9aa6-d53893f61878",
   "metadata": {
    "editable": true,
    "slideshow": {
     "slide_type": ""
    },
    "tags": [
     "clear_answer_cell"
    ]
   },
   "outputs": [
    {
     "name": "stdout",
     "output_type": "stream",
     "text": [
      "['s', 'o', 'f']\n"
     ]
    }
   ],
   "source": [
    "print(myotherlist[0:3:1])"
   ]
  },
  {
   "cell_type": "markdown",
   "id": "4041d101-9a34-4ea0-828e-e1638460ef16",
   "metadata": {},
   "source": [
    "Print the string backwards."
   ]
  },
  {
   "cell_type": "markdown",
   "id": "7bc6968b-18c5-4b65-b6a7-e14973566c94",
   "metadata": {},
   "source": [
    "_Hint: Slicing can be written as `[low:high:stride]` and to go backwards you would need a stride of -1._"
   ]
  },
  {
   "cell_type": "code",
   "execution_count": 17,
   "id": "301a59bd-d9d9-421e-bf03-1cb8a7758033",
   "metadata": {
    "editable": true,
    "execution": {
     "iopub.execute_input": "2023-10-23T10:34:52.519034Z",
     "iopub.status.busy": "2023-10-23T10:34:52.518573Z",
     "iopub.status.idle": "2023-10-23T10:34:52.524961Z",
     "shell.execute_reply": "2023-10-23T10:34:52.524003Z"
    },
    "slideshow": {
     "slide_type": ""
    },
    "tags": [
     "clear_answer_cell"
    ]
   },
   "outputs": [],
   "source": []
  },
  {
   "cell_type": "markdown",
   "id": "fc52df79-b367-4bb0-ab73-492d8d9dfb0e",
   "metadata": {},
   "source": [
    "First try using: \n",
    "```\n",
    "a = list('hello everybody')\n",
    "b = sorted(a)\n",
    "print(a)\n",
    "```\n",
    "Then try using:\n",
    "```\n",
    "a = list('hello everybody')\n",
    "b = a.sort()\n",
    "print(a)\n",
    "```\n",
    "Why are they different?"
   ]
  },
  {
   "cell_type": "code",
   "execution_count": 18,
   "id": "0a52d04b-ef66-44f8-8323-2028833ac34e",
   "metadata": {
    "editable": true,
    "execution": {
     "iopub.execute_input": "2023-10-23T10:34:52.529951Z",
     "iopub.status.busy": "2023-10-23T10:34:52.529475Z",
     "iopub.status.idle": "2023-10-23T10:34:52.536346Z",
     "shell.execute_reply": "2023-10-23T10:34:52.535446Z"
    },
    "slideshow": {
     "slide_type": ""
    },
    "tags": [
     "clear_answer_cell"
    ]
   },
   "outputs": [],
   "source": []
  }
 ],
 "metadata": {
  "kernelspec": {
   "display_name": "Python 3 + Jaspy",
   "language": "python",
   "name": "jaspy"
  },
  "language_info": {
   "codemirror_mode": {
    "name": "ipython",
    "version": 3
   },
   "file_extension": ".py",
   "mimetype": "text/x-python",
   "name": "python",
   "nbconvert_exporter": "python",
   "pygments_lexer": "ipython3",
   "version": "3.10.5"
  }
 },
 "nbformat": 4,
 "nbformat_minor": 5
}

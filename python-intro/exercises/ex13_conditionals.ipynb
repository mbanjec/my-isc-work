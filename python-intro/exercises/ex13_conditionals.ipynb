{
 "cells": [
  {
   "cell_type": "markdown",
   "id": "63b2332e-933d-4043-ac32-14a8af119baf",
   "metadata": {
    "editable": true,
    "slideshow": {
     "slide_type": ""
    },
    "tags": []
   },
   "source": [
    "# Exercise 13: Conditionals"
   ]
  },
  {
   "cell_type": "markdown",
   "id": "69274861-e984-4721-ab5c-f43a2c7e46f8",
   "metadata": {},
   "source": [
    "## Aim: Learn to use `if` and `else` statements."
   ]
  },
  {
   "cell_type": "markdown",
   "id": "31ffe77a-c4fb-4d9a-812d-e6104206427c",
   "metadata": {},
   "source": [
    "### Issues covered:\n",
    "- Taking a look at an `if` `else` block\n",
    "- Writing an `if` block\n",
    "- Writing an `if` `elif` block"
   ]
  },
  {
   "cell_type": "markdown",
   "id": "c2a5e099-c561-4224-b6d2-e5e270397718",
   "metadata": {},
   "source": [
    "## 1. Let's take a look at an `if` `else` block:"
   ]
  },
  {
   "cell_type": "markdown",
   "id": "844f7dc4-87d1-4e3e-bf2d-10355d580e36",
   "metadata": {},
   "source": [
    "Copy the code below and experiment with changing the values of the mass and acceleration:\n",
    "```\n",
    "mass = 0.5\n",
    "acceleration = 1.0\n",
    "force = mass * acceleration\n",
    "if force < 1:\n",
    "    print(\"Force is small.\")\n",
    "else:\n",
    "    print(\"Force is big.\")\n",
    "```"
   ]
  },
  {
   "cell_type": "code",
   "execution_count": 4,
   "id": "999eda00-c424-4fd7-9548-ed0ba46c2577",
   "metadata": {
    "editable": true,
    "slideshow": {
     "slide_type": ""
    },
    "tags": [
     "clear_answer_cell"
    ]
   },
   "outputs": [
    {
     "name": "stdout",
     "output_type": "stream",
     "text": [
      "Force is big.\n"
     ]
    }
   ],
   "source": [
    "mass = 1\n",
    "acceleration =1\n",
    "force = mass * acceleration\n",
    "if force < 1:\n",
    "    print(\"Force is small.\")\n",
    "else:\n",
    "    print(\"Force is big.\")"
   ]
  },
  {
   "cell_type": "markdown",
   "id": "004c0c6c-df2d-4f96-8382-e66ef73698dc",
   "metadata": {},
   "source": [
    "What happens if you make the force exactly equal to 1?"
   ]
  },
  {
   "cell_type": "code",
   "execution_count": 2,
   "id": "cbd07c93-3500-4607-b218-187bc5f1daab",
   "metadata": {
    "editable": true,
    "execution": {
     "iopub.execute_input": "2023-10-23T10:35:13.070002Z",
     "iopub.status.busy": "2023-10-23T10:35:13.069553Z",
     "iopub.status.idle": "2023-10-23T10:35:13.084866Z",
     "shell.execute_reply": "2023-10-23T10:35:13.083762Z"
    },
    "slideshow": {
     "slide_type": ""
    },
    "tags": [
     "clear_answer_cell"
    ]
   },
   "outputs": [],
   "source": []
  },
  {
   "cell_type": "markdown",
   "id": "63cb4ca8-8fb8-46c8-afb0-2a1d3a2404b2",
   "metadata": {},
   "source": [
    "## 2. Let's write some `if` `elif` blocks"
   ]
  },
  {
   "cell_type": "markdown",
   "id": "2eaca519-41e6-4a09-8983-1dc2acf92f0a",
   "metadata": {},
   "source": [
    "Create a variable called `name` assigned the value 'Lisa'. Write an `if` block that prints 'plays a saxophone' if someone's name is Lisa."
   ]
  },
  {
   "cell_type": "code",
   "execution_count": 7,
   "id": "54071743-1f65-4342-8257-218804cbd1b9",
   "metadata": {
    "editable": true,
    "slideshow": {
     "slide_type": ""
    },
    "tags": [
     "clear_answer_cell"
    ]
   },
   "outputs": [
    {
     "name": "stdout",
     "output_type": "stream",
     "text": [
      "plays a saxophone\n"
     ]
    }
   ],
   "source": [
    "name = 'Lisa'\n",
    "if name == 'Lisa':\n",
    "    print('plays a saxophone')\n",
    "else:\n",
    "    print('good bye')"
   ]
  },
  {
   "cell_type": "markdown",
   "id": "5bb0e24f-1e8a-4964-9894-ee0468f7b08b",
   "metadata": {},
   "source": [
    "Add an `elif` block that tests if `name` is Bart. If so, print 'rides a skateboard.'."
   ]
  },
  {
   "cell_type": "code",
   "execution_count": 9,
   "id": "2f28574f-a329-41bd-a6b3-4f7ca00f1d4a",
   "metadata": {
    "editable": true,
    "slideshow": {
     "slide_type": ""
    },
    "tags": [
     "clear_answer_cell"
    ]
   },
   "outputs": [
    {
     "name": "stdout",
     "output_type": "stream",
     "text": [
      "plays a saxophone\n"
     ]
    }
   ],
   "source": [
    "name = 'Lisa'\n",
    "if name == 'Lisa':\n",
    "    print('plays a saxophone')\n",
    "elif name == 'Bart':\n",
    "    print('rides a skateboard')"
   ]
  },
  {
   "cell_type": "markdown",
   "id": "ad742fce-1109-45ce-9a20-4be27e7c7fa0",
   "metadata": {},
   "source": [
    "Add an `else` block which prints 'lives in Springfield' for any other names given."
   ]
  },
  {
   "cell_type": "code",
   "execution_count": 10,
   "id": "44f213fe-0505-43ad-94d9-a22b39a3cf97",
   "metadata": {
    "editable": true,
    "slideshow": {
     "slide_type": ""
    },
    "tags": [
     "clear_answer_cell"
    ]
   },
   "outputs": [
    {
     "name": "stdout",
     "output_type": "stream",
     "text": [
      "plays a saxophone\n"
     ]
    }
   ],
   "source": [
    "name = 'Lisa'\n",
    "if name == 'Lisa':\n",
    "    print('plays a saxophone')\n",
    "elif name == 'Bart':\n",
    "    print('rides a skateboard')\n",
    "else:\n",
    "    print('lives in Springfield')"
   ]
  },
  {
   "cell_type": "markdown",
   "id": "acdd7ef9-d4a9-4802-afcb-ce8539b0686f",
   "metadata": {},
   "source": [
    "## 3. Let's try a harder task of looping through some files"
   ]
  },
  {
   "cell_type": "markdown",
   "id": "85e88688-920c-48b5-8f39-8fe1513748cf",
   "metadata": {},
   "source": [
    "Write a program which loops through all files in the data folder and prints out the length of those with more than 10 records."
   ]
  },
  {
   "cell_type": "markdown",
   "id": "7a13df40-14fa-4335-bd1e-9abc7fd2a58c",
   "metadata": {},
   "source": [
    "Hint: Use the package `glob` to help loop through the data files, with the syntax `glob.glob(data/*.csv')`, and `pandas` to read the data as in previous exercises. We'll take a closer look at `glob` next lesson."
   ]
  },
  {
   "cell_type": "code",
   "execution_count": 15,
   "id": "56242465-e64d-49f6-a8fb-70e8704a2bf7",
   "metadata": {
    "editable": true,
    "slideshow": {
     "slide_type": ""
    },
    "tags": [
     "clear_answer_cell"
    ]
   },
   "outputs": [
    {
     "name": "stdout",
     "output_type": "stream",
     "text": [
      "../data/oceania_gdp.csv\n",
      "../data/europe_gdp.csv\n",
      "../data/europe_gdp.csv 30\n",
      "../data/weather.csv\n",
      "../data/processed.csv\n",
      "../data/processed.csv 25\n",
      "../data/americas_gdp.csv\n",
      "../data/americas_gdp.csv 25\n",
      "../data/newfilechami.csv\n",
      "../data/newfilechami.csv 25\n"
     ]
    }
   ],
   "source": [
    "import glob\n",
    "import pandas as pd\n",
    "for filename in glob.glob('../data/*.csv'):\n",
    "    print(filename)\n",
    "    contents = pd.read_csv(filename)\n",
    "    #print(contents)\n",
    "    if len(contents) > 10:\n",
    "        print(filename, len(contents))\n"
   ]
  },
  {
   "cell_type": "code",
   "execution_count": 12,
   "id": "3b13d80f-3a2a-4afd-9f78-b536517655ff",
   "metadata": {},
   "outputs": [
    {
     "name": "stdout",
     "output_type": "stream",
     "text": [
      "Help on module glob:\n",
      "\n",
      "NAME\n",
      "    glob - Filename globbing utility.\n",
      "\n",
      "MODULE REFERENCE\n",
      "    https://docs.python.org/3.10/library/glob.html\n",
      "    \n",
      "    The following documentation is automatically generated from the Python\n",
      "    source files.  It may be incomplete, incorrect or include features that\n",
      "    are considered implementation detail and may vary between Python\n",
      "    implementations.  When in doubt, consult the module reference at the\n",
      "    location listed above.\n",
      "\n",
      "FUNCTIONS\n",
      "    escape(pathname)\n",
      "        Escape all special characters.\n",
      "    \n",
      "    glob(pathname, *, root_dir=None, dir_fd=None, recursive=False)\n",
      "        Return a list of paths matching a pathname pattern.\n",
      "        \n",
      "        The pattern may contain simple shell-style wildcards a la\n",
      "        fnmatch. However, unlike fnmatch, filenames starting with a\n",
      "        dot are special cases that are not matched by '*' and '?'\n",
      "        patterns.\n",
      "        \n",
      "        If recursive is true, the pattern '**' will match any files and\n",
      "        zero or more directories and subdirectories.\n",
      "    \n",
      "    iglob(pathname, *, root_dir=None, dir_fd=None, recursive=False)\n",
      "        Return an iterator which yields the paths matching a pathname pattern.\n",
      "        \n",
      "        The pattern may contain simple shell-style wildcards a la\n",
      "        fnmatch. However, unlike fnmatch, filenames starting with a\n",
      "        dot are special cases that are not matched by '*' and '?'\n",
      "        patterns.\n",
      "        \n",
      "        If recursive is true, the pattern '**' will match any files and\n",
      "        zero or more directories and subdirectories.\n",
      "\n",
      "DATA\n",
      "    __all__ = ['glob', 'iglob', 'escape']\n",
      "\n",
      "FILE\n",
      "    /opt/jaspy/lib/python3.10/glob.py\n",
      "\n",
      "\n"
     ]
    }
   ],
   "source": [
    "help(glob)"
   ]
  },
  {
   "cell_type": "markdown",
   "id": "bd65b05b-3b64-4972-8627-e248c45c0e31",
   "metadata": {},
   "source": [
    "## 4. Extension: `while` loops."
   ]
  },
  {
   "cell_type": "markdown",
   "id": "88f3a8c4-78c3-4606-995c-0de9dc74a16e",
   "metadata": {},
   "source": [
    "There is another type of conditional called `while` that hasn't been covered. "
   ]
  },
  {
   "cell_type": "markdown",
   "id": "1958fdf2-6fde-4e2e-b6a9-35f23ec89716",
   "metadata": {},
   "source": [
    "1. You can create a `while` loop using:\n",
    "```\n",
    "i = 1\n",
    "while i < 10:\n",
    "    print(i)\n",
    "```\n",
    "But be careful - this loop never ends as the value of `i` doesn't change so will keep running forever! Make sure you know how to stop the cell running to escape. You can do this by hitting the stop button to interrupt the kernel. \n",
    "Copy this code below but add a line of code that increments `i` by 1 in the loop so that it doesn't run indefinetly."
   ]
  },
  {
   "cell_type": "code",
   "execution_count": 7,
   "id": "6cef0ca8-34e0-4317-8751-d7d84fa3f373",
   "metadata": {
    "editable": true,
    "execution": {
     "iopub.execute_input": "2023-10-23T10:35:13.569611Z",
     "iopub.status.busy": "2023-10-23T10:35:13.569252Z",
     "iopub.status.idle": "2023-10-23T10:35:13.574099Z",
     "shell.execute_reply": "2023-10-23T10:35:13.573452Z"
    },
    "slideshow": {
     "slide_type": ""
    },
    "tags": [
     "clear_answer_cell"
    ]
   },
   "outputs": [],
   "source": []
  },
  {
   "cell_type": "markdown",
   "id": "42362e07-92c3-4f54-a901-938dfd2cef2b",
   "metadata": {},
   "source": [
    "2. Create a variable called `gases` assigned the list `['He', 'Ne', 'Ar', 'Kr']"
   ]
  },
  {
   "cell_type": "code",
   "execution_count": null,
   "id": "7e4217d0-ea47-4323-a175-6363a4ba0557",
   "metadata": {
    "editable": true,
    "slideshow": {
     "slide_type": ""
    },
    "tags": [
     "clear_answer_cell"
    ]
   },
   "outputs": [],
   "source": [
    "gases = ['He', 'Ne', 'Ar', 'Kr']\n",
    "i = 0\n",
    "while i <= 3:\n",
    "    print(gases)\n",
    "    i = i + 1\n",
    "        print(gases[i])\n",
    "    "
   ]
  },
  {
   "cell_type": "markdown",
   "id": "f7c68bd9-dda0-44ab-a23f-1b629c1fefea",
   "metadata": {},
   "source": [
    "3. Create a while loop which prints each item in the list.\n",
    "- Create a `count` variable which starts at 0.\n",
    "- Create the `while` loop.\n",
    "- Print `gases[count]`\n",
    "- Increment the count by 1."
   ]
  },
  {
   "cell_type": "code",
   "execution_count": 9,
   "id": "e66f9a26-4599-4e01-adf5-b1d0951299ee",
   "metadata": {
    "editable": true,
    "execution": {
     "iopub.execute_input": "2023-10-23T10:35:13.588902Z",
     "iopub.status.busy": "2023-10-23T10:35:13.588473Z",
     "iopub.status.idle": "2023-10-23T10:35:13.595141Z",
     "shell.execute_reply": "2023-10-23T10:35:13.594133Z"
    },
    "slideshow": {
     "slide_type": ""
    },
    "tags": [
     "clear_answer_cell"
    ]
   },
   "outputs": [],
   "source": []
  }
 ],
 "metadata": {
  "kernelspec": {
   "display_name": "Python 3 + Jaspy",
   "language": "python",
   "name": "jaspy"
  },
  "language_info": {
   "codemirror_mode": {
    "name": "ipython",
    "version": 3
   },
   "file_extension": ".py",
   "mimetype": "text/x-python",
   "name": "python",
   "nbconvert_exporter": "python",
   "pygments_lexer": "ipython3",
   "version": "3.10.5"
  }
 },
 "nbformat": 4,
 "nbformat_minor": 5
}
